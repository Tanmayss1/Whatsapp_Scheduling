{
 "cells": [
  {
   "cell_type": "code",
   "execution_count": 1,
   "metadata": {},
   "outputs": [],
   "source": [
    "#Install Whatsapp library\n",
    "#pip install pywhatkit\n",
    "#pip install webbrowser"
   ]
  },
  {
   "cell_type": "code",
   "execution_count": 2,
   "metadata": {},
   "outputs": [],
   "source": [
    "# importing important libraries\n",
    "import pywhatkit\n",
    "from pytube import YouTube\n",
    "from sys import argv\n",
    "import webbrowser\n",
    "import matplotlib.pyplot as plt\n",
    "import matplotlib.image as mpimg"
   ]
  },
  {
   "cell_type": "code",
   "execution_count": 6,
   "metadata": {},
   "outputs": [
    {
     "name": "stdout",
     "output_type": "stream",
     "text": [
      "In 85741 Seconds WhatsApp will open and after 15 Seconds Message will be Delivered!\n"
     ]
    }
   ],
   "source": [
    "# Put your reciever's number in place of \"+911234567891\", \" MAIN MESSAGE\", HOUR TIME, HOUR MIN\n",
    "\n",
    "\n",
    "pywhatkit.sendwhatmsg('+911234567891','Hey Its my first message from python',17,1)"
   ]
  },
  {
   "cell_type": "code",
   "execution_count": null,
   "metadata": {},
   "outputs": [],
   "source": [
    "\"\"\"\n",
    "*/\n",
    "\n",
    "Send a WhatsApp Message to a Contact at 1:30 PM\n",
    "pywhatkit.sendwhatmsg(\"+911234567891\", \"Hi\", 13, 30)\n",
    "\n",
    "# Same as above but Closes the Tab in 2 Seconds after Sending the Message\n",
    "pywhatkit.sendwhatmsg(\"+911234567891\", \"Hi\", 13, 30, 15, True, 2)\n",
    "\n",
    "# Send an Image to a Group with the Caption as Hello\n",
    "pywhatkit.sendwhats_image(\"AB123CDEFGHijklmn\", \"Images/Hello.png\", \"Hello\")\n",
    "\n",
    "# Send an Image to a Contact with the no Caption\n",
    "pywhatkit.sendwhats_image(\"+911234567891\", \"Images/Hello.png\")\n",
    "\n",
    "# Send a WhatsApp Message to a Group at 12:00 AM\n",
    "pywhatkit.sendwhatmsg_to_group(\"AB123CDEFGHijklmn\", \"Hey All!\", 0, 0)\n",
    "\n",
    "# Send a WhatsApp Message to a Group instantly\n",
    "pywhatkit.sendwhatmsg_to_group_instantly(\"AB123CDEFGHijklmn\", \"Hey All!\")\n",
    "\n",
    "# Play a Video on YouTube\n",
    "pywhatkit.playonyt(\"PyWhatKit\") \n",
    "\n",
    "*/ \n",
    "\n",
    "\"\"\""
   ]
  }
 ],
 "metadata": {
  "kernelspec": {
   "display_name": "base",
   "language": "python",
   "name": "python3"
  },
  "language_info": {
   "codemirror_mode": {
    "name": "ipython",
    "version": 3
   },
   "file_extension": ".py",
   "mimetype": "text/x-python",
   "name": "python",
   "nbconvert_exporter": "python",
   "pygments_lexer": "ipython3",
   "version": "3.9.12"
  },
  "orig_nbformat": 4
 },
 "nbformat": 4,
 "nbformat_minor": 2
}
